{
 "cells": [
  {
   "cell_type": "raw",
   "id": "255bf0df",
   "metadata": {},
   "source": [
    "- to solve this question, we can use dynamic programming formula. we will create 2D array od size (n+1)*(m+1),where n and m are len of   two string s1 and s2\n",
    " - after we will compare tow strings to find longest common subsequence of the two string with last characters removed .\n",
    "\n",
    "note:for solve this question i get  little help from google about dynamic programming  formula "
   ]
  },
  {
   "cell_type": "code",
   "execution_count": 2,
   "id": "385e3792",
   "metadata": {},
   "outputs": [
    {
     "name": "stdout",
     "output_type": "stream",
     "text": [
      "amongish\n",
      "jaonight\n",
      "5\n"
     ]
    }
   ],
   "source": [
    "s1=input()\n",
    "s2=input()\n",
    "n=len(s1)\n",
    "m=len(s2)\n",
    "\n",
    "formula= [[0]*(m+1) for i in range (n+1)]\n",
    "\n",
    "for i in range (1,n+1):\n",
    "    for j in range (1,m+1):\n",
    "        if s1[i-1]==s2[j-1]:\n",
    "            formula[i][j]=1+formula[i-1][j-1]\n",
    "        else:\n",
    "            formula[i][j]=max(formula[i][j-1],formula[i-1][j])\n",
    "            \n",
    "print(formula[n][m])"
   ]
  },
  {
   "cell_type": "code",
   "execution_count": null,
   "id": "4c463fa3",
   "metadata": {},
   "outputs": [],
   "source": []
  }
 ],
 "metadata": {
  "kernelspec": {
   "display_name": "Python 3 (ipykernel)",
   "language": "python",
   "name": "python3"
  },
  "language_info": {
   "codemirror_mode": {
    "name": "ipython",
    "version": 3
   },
   "file_extension": ".py",
   "mimetype": "text/x-python",
   "name": "python",
   "nbconvert_exporter": "python",
   "pygments_lexer": "ipython3",
   "version": "3.9.12"
  }
 },
 "nbformat": 4,
 "nbformat_minor": 5
}
