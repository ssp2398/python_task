{
 "cells": [
  {
   "cell_type": "raw",
   "id": "6be8aff4",
   "metadata": {},
   "source": [
    "-to solve this question we will first store all the lelments in array .\n",
    " -after , itrate through each element in array2 to check if it match with any element in array1\n",
    "  -if there is any match check if corrosponding index in array2 is not already used in matching pair.\n",
    "   -if there is no match we will try to changing the current element from array1 to array2 one by one element \n",
    "    -return the max number of disjoint if matching pairs obtained "
   ]
  },
  {
   "cell_type": "code",
   "execution_count": 9,
   "id": "12fa6376",
   "metadata": {},
   "outputs": [
    {
     "name": "stdout",
     "output_type": "stream",
     "text": [
      "6\n",
      "4 5 10 9 2 5\n",
      "3 2 5 8 21 5\n",
      "6\n"
     ]
    }
   ],
   "source": [
    "n=int(input())\n",
    "a=list(map(int,input().split()))\n",
    "b=list(map(int,input().split()))\n",
    "\n",
    "pairs=[]\n",
    "\n",
    "used_indices=set()\n",
    "\n",
    "b_indices={}\n",
    "\n",
    "for j in range(n):\n",
    "    if b[j] not in b_indices:\n",
    "        b_indices[b[j]]=[]\n",
    "    b_indices[b[j]].append(j)\n",
    "\n",
    "for i in range (n):\n",
    "    if a[i] in b_indices:\n",
    "        for j in b_indices[a[i]]:\n",
    "            if j not in used_indices and (i,j) not in pairs:\n",
    "                pairs.append((i,j))\n",
    "                used_indices.add(j)\n",
    "                break\n",
    "    else:\n",
    "        for j in range(n):\n",
    "            if i != j and (i,j) not in pairs:\n",
    "                odd_pair=None\n",
    "                if a[i] in b_indices:\n",
    "                    for k in b_indices[a[i]]:\n",
    "                        if k  in used_indices and (k,j) not in pairs:\n",
    "                            odd_pair=(k,j)\n",
    "                            break\n",
    "                if not odd_pair:\n",
    "                    if b[j] in b_indices:\n",
    "                        for k in b_indices[b[j]]:\n",
    "                            if k not in used_indices and (i,k) not in pairs:\n",
    "                                pairs.append((i,k))\n",
    "                                used_indices.add(k)\n",
    "                                break\n",
    "                            \n",
    "                    else:\n",
    "                        pairs.append((i,j))\n",
    "                        used_indices.add(j)\n",
    "                        \n",
    "                else:\n",
    "                    pairs.remove(odd_pair)\n",
    "                    pairs.append((i,j))\n",
    "                    used_indices.add(j)\n",
    "\n",
    "print(len(pairs))\n",
    "        "
   ]
  },
  {
   "cell_type": "code",
   "execution_count": null,
   "id": "25e43134",
   "metadata": {},
   "outputs": [],
   "source": []
  }
 ],
 "metadata": {
  "kernelspec": {
   "display_name": "Python 3 (ipykernel)",
   "language": "python",
   "name": "python3"
  },
  "language_info": {
   "codemirror_mode": {
    "name": "ipython",
    "version": 3
   },
   "file_extension": ".py",
   "mimetype": "text/x-python",
   "name": "python",
   "nbconvert_exporter": "python",
   "pygments_lexer": "ipython3",
   "version": "3.9.12"
  }
 },
 "nbformat": 4,
 "nbformat_minor": 5
}
