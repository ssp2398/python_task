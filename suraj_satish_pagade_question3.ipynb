{
 "cells": [
  {
   "cell_type": "raw",
   "id": "c1adac09",
   "metadata": {},
   "source": [
    "- for solve this question we will consider each person is node and each pair of people who have exchanged their cards form an edge.\n",
    " - after that we will use graph traversal algorithm to find the min number if additional edges that need to added to ensure that graph is connected .\n",
    "    \n",
    "for understanding concept of graph traversal algorithm i used google. \n",
    "    "
   ]
  },
  {
   "cell_type": "code",
   "execution_count": 10,
   "id": "97177034",
   "metadata": {},
   "outputs": [
    {
     "name": "stdout",
     "output_type": "stream",
     "text": [
      "5\n",
      "0\n",
      "5\n",
      "3 5\n",
      "3 4\n",
      "1 2\n",
      "1 3\n",
      "1 1\n",
      "4\n"
     ]
    }
   ],
   "source": [
    "n= int(input())\n",
    "graph={}\n",
    "visited=set()\n",
    "\n",
    "p1=int(input())\n",
    "for i in range (p1):\n",
    "    a,b=map(int,input().split())\n",
    "    if a not in graph:\n",
    "        graph[a]=[]\n",
    "    if b not in graph:\n",
    "        graph[b]=[]\n",
    "    graph[a].append(b)\n",
    "    graph[b].append(a)\n",
    "\n",
    "p2=int(input())\n",
    "for i in range(p2):\n",
    "    a,b=map(int,input().split())\n",
    "    if a not in graph:\n",
    "        graph[a]=[]\n",
    "    if b not in graph:\n",
    "        graph[b]=[]\n",
    "    graph[a].append(b)\n",
    "    graph[b].append(a)\n",
    "        \n",
    "queue=[1]\n",
    "visited.add(1)\n",
    "while queue:\n",
    "    node=queue.pop(0)\n",
    "    for nearest in graph.get(node,[]):\n",
    "        if nearest not in visited:\n",
    "            visited.add(nearest)\n",
    "            queue.append(nearest)\n",
    "            \n",
    "if len(visited)==n:\n",
    "    print(p2-1)\n",
    "else:\n",
    "    print(-1)"
   ]
  },
  {
   "cell_type": "code",
   "execution_count": null,
   "id": "490a5186",
   "metadata": {},
   "outputs": [],
   "source": []
  }
 ],
 "metadata": {
  "kernelspec": {
   "display_name": "Python 3 (ipykernel)",
   "language": "python",
   "name": "python3"
  },
  "language_info": {
   "codemirror_mode": {
    "name": "ipython",
    "version": 3
   },
   "file_extension": ".py",
   "mimetype": "text/x-python",
   "name": "python",
   "nbconvert_exporter": "python",
   "pygments_lexer": "ipython3",
   "version": "3.9.12"
  }
 },
 "nbformat": 4,
 "nbformat_minor": 5
}
